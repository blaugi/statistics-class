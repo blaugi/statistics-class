{
 "cells": [
  {
   "cell_type": "code",
   "execution_count": 7,
   "id": "c010a82a",
   "metadata": {},
   "outputs": [],
   "source": [
    "import random"
   ]
  },
  {
   "cell_type": "code",
   "execution_count": 8,
   "id": "3c7043fc",
   "metadata": {},
   "outputs": [],
   "source": [
    "def random_walk(n_steps):\n",
    "    x, y = 0, 0\n",
    "    possible_steps = [(0, 1),  # North\n",
    "                      (0, -1), # South\n",
    "                      (1, 0),  # East\n",
    "                      (-1, 0)] # West\n",
    "    \n",
    "    for _ in range(n_steps):\n",
    "        dx, dy = random.choice(possible_steps)\n",
    "        x += dx\n",
    "        y += dy\n",
    "    return x, y\n"
   ]
  },
  {
   "cell_type": "code",
   "execution_count": 17,
   "id": "c0a4e90d",
   "metadata": {},
   "outputs": [
    {
     "name": "stdout",
     "output_type": "stream",
     "text": [
      "distance <= 5).\n",
      "wait until drops below 50.0%.\n",
      "Walk size = 1   // % of no transport = 100.00\n",
      "Walk size = 2   // % of no transport = 100.00\n",
      "Walk size = 3   // % of no transport = 100.00\n",
      "Walk size = 4   // % of no transport = 100.00\n",
      "Walk size = 5   // % of no transport = 100.00\n",
      "Walk size = 6   // % of no transport = 94.01\n",
      "Walk size = 7   // % of no transport = 96.80\n",
      "Walk size = 8   // % of no transport = 86.59\n",
      "Walk size = 9   // % of no transport = 92.27\n",
      "Walk size = 10  // % of no transport = 79.42\n",
      "Walk size = 11  // % of no transport = 87.20\n",
      "Walk size = 12  // % of no transport = 72.55\n",
      "Walk size = 13  // % of no transport = 82.36\n",
      "Walk size = 14  // % of no transport = 67.42\n",
      "Walk size = 15  // % of no transport = 77.92\n",
      "Walk size = 16  // % of no transport = 62.27\n",
      "Walk size = 17  // % of no transport = 73.36\n",
      "Walk size = 18  // % of no transport = 57.53\n",
      "Walk size = 19  // % of no transport = 69.17\n",
      "Walk size = 20  // % of no transport = 54.65\n",
      "Walk size = 21  // % of no transport = 65.36\n",
      "Walk size = 22  // % of no transport = 51.61\n",
      "Walk size = 23  // % of no transport = 63.11\n",
      "Walk size = 24  // % of no transport = 47.98\n",
      "\n",
      ">>> Condition met: At Walk size = 24, the '% of no transport' (47.98%) first dropped below 50.0%.\n",
      "\n",
      "Result: 24\n"
     ]
    },
    {
     "data": {
      "text/plain": [
       "24"
      ]
     },
     "execution_count": 17,
     "metadata": {},
     "output_type": "execute_result"
    }
   ],
   "source": [
    "def find_longest_walk_avg_dist_threshold(): # Original function name from your snippet\n",
    "    number_of_simulations = 20000 \n",
    "    max_walk_length_to_check = 100  \n",
    "    \n",
    "    no_transport_distance_threshold = 5 \n",
    "    target_percentage_threshold = 50.0  \n",
    "\n",
    "    result_walk_length = -1\n",
    "\n",
    "    print(f\"distance <= {no_transport_distance_threshold}).\")\n",
    "    print(f\"wait until drops below {target_percentage_threshold}%.\")\n",
    "\n",
    "    for current_walk_length in range(1, max_walk_length_to_check + 1):\n",
    "        count_no_transport = 0\n",
    "        \n",
    "        for _ in range(number_of_simulations):\n",
    "            final_x, final_y = random_walk(current_walk_length)\n",
    "            distance = abs(final_x) + abs(final_y) # Manhattan distance\n",
    "            \n",
    "            if distance <= no_transport_distance_threshold:\n",
    "                count_no_transport += 1\n",
    "        \n",
    "        percentage_no_transport = (count_no_transport / number_of_simulations) * 100.0\n",
    "        \n",
    "        print(f\"Walk size = {current_walk_length:<3} // % of no transport = {percentage_no_transport:.2f}\")\n",
    "        \n",
    "        if percentage_no_transport < target_percentage_threshold:\n",
    "            result_walk_length = current_walk_length\n",
    "            print(f\"\\n>>> Condition met: At Walk size = {result_walk_length}, \"\n",
    "                  f\"the '% of no transport' ({percentage_no_transport:.2f}%) \"\n",
    "                  f\"first dropped below {target_percentage_threshold}%.\")\n",
    "            break\n",
    "            \n",
    "    if result_walk_length == -1:\n",
    "        print(f\"\\n>>> The '% of no transport' (distance <= {no_transport_distance_threshold}) \"\n",
    "              f\"did not drop below {target_percentage_threshold}% within the maximum of \"\n",
    "              f\"{max_walk_length_to_check} steps tested.\")\n",
    "    \n",
    "    final_report_message = f\"Result: {result_walk_length if result_walk_length != -1 else 'Not found within test range'}\"\n",
    "    print(f\"\\n{final_report_message}\")\n",
    "    \n",
    "    return result_walk_length\n",
    "    \n",
    "# Calling the function as in your provided snippet\n",
    "find_longest_walk_avg_dist_threshold()"
   ]
  },
  {
   "cell_type": "markdown",
   "id": "77003b1b",
   "metadata": {},
   "source": [
    "- Podemos ver que 22 passos é o último número antes da porcentagem cair abaixo de 50%."
   ]
  }
 ],
 "metadata": {
  "kernelspec": {
   "display_name": ".venv",
   "language": "python",
   "name": "python3"
  },
  "language_info": {
   "codemirror_mode": {
    "name": "ipython",
    "version": 3
   },
   "file_extension": ".py",
   "mimetype": "text/x-python",
   "name": "python",
   "nbconvert_exporter": "python",
   "pygments_lexer": "ipython3",
   "version": "3.11.11"
  }
 },
 "nbformat": 4,
 "nbformat_minor": 5
}
