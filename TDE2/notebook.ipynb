{
 "cells": [
  {
   "cell_type": "code",
   "execution_count": 2,
   "id": "21d48e14",
   "metadata": {},
   "outputs": [],
   "source": [
    "import polars as pl\n",
    "import matplotlib.pyplot as plt\n",
    "import numpy as np"
   ]
  },
  {
   "cell_type": "code",
   "execution_count": 3,
   "id": "b52fd9a6",
   "metadata": {},
   "outputs": [
    {
     "data": {
      "text/html": [
       "<div><style>\n",
       ".dataframe > thead > tr,\n",
       ".dataframe > tbody > tr {\n",
       "  text-align: right;\n",
       "  white-space: pre-wrap;\n",
       "}\n",
       "</style>\n",
       "<small>shape: (5, 31)</small><table border=\"1\" class=\"dataframe\"><thead><tr><th>student_id</th><th>age</th><th>gender</th><th>major</th><th>study_hours_per_day</th><th>social_media_hours</th><th>netflix_hours</th><th>part_time_job</th><th>attendance_percentage</th><th>sleep_hours</th><th>diet_quality</th><th>exercise_frequency</th><th>parental_education_level</th><th>internet_quality</th><th>mental_health_rating</th><th>extracurricular_participation</th><th>previous_gpa</th><th>semester</th><th>stress_level</th><th>dropout_risk</th><th>social_activity</th><th>screen_time</th><th>study_environment</th><th>access_to_tutoring</th><th>family_income_range</th><th>parental_support_level</th><th>motivation_level</th><th>exam_anxiety_score</th><th>learning_style</th><th>time_management_score</th><th>exam_score</th></tr><tr><td>i64</td><td>i64</td><td>str</td><td>str</td><td>f64</td><td>f64</td><td>f64</td><td>str</td><td>f64</td><td>f64</td><td>str</td><td>i64</td><td>str</td><td>str</td><td>f64</td><td>str</td><td>f64</td><td>i64</td><td>f64</td><td>str</td><td>i64</td><td>f64</td><td>str</td><td>str</td><td>str</td><td>i64</td><td>i64</td><td>i64</td><td>str</td><td>f64</td><td>i64</td></tr></thead><tbody><tr><td>100000</td><td>26</td><td>&quot;Male&quot;</td><td>&quot;Computer Science&quot;</td><td>7.645367</td><td>3.0</td><td>0.1</td><td>&quot;Yes&quot;</td><td>70.3</td><td>6.2</td><td>&quot;Poor&quot;</td><td>3</td><td>&quot;Some College&quot;</td><td>&quot;High&quot;</td><td>6.0</td><td>&quot;Yes&quot;</td><td>4.0</td><td>5</td><td>5.8</td><td>&quot;No&quot;</td><td>0</td><td>10.9</td><td>&quot;Co-Learning Group&quot;</td><td>&quot;Yes&quot;</td><td>&quot;High&quot;</td><td>9</td><td>7</td><td>8</td><td>&quot;Reading&quot;</td><td>3.0</td><td>100</td></tr><tr><td>100001</td><td>28</td><td>&quot;Male&quot;</td><td>&quot;Arts&quot;</td><td>5.7</td><td>0.5</td><td>0.4</td><td>&quot;No&quot;</td><td>88.4</td><td>7.2</td><td>&quot;Good&quot;</td><td>4</td><td>&quot;PhD&quot;</td><td>&quot;Low&quot;</td><td>6.8</td><td>&quot;No&quot;</td><td>4.0</td><td>7</td><td>5.8</td><td>&quot;No&quot;</td><td>5</td><td>8.3</td><td>&quot;Co-Learning Group&quot;</td><td>&quot;Yes&quot;</td><td>&quot;Low&quot;</td><td>7</td><td>2</td><td>10</td><td>&quot;Reading&quot;</td><td>6.0</td><td>99</td></tr><tr><td>100002</td><td>17</td><td>&quot;Male&quot;</td><td>&quot;Arts&quot;</td><td>2.4</td><td>4.2</td><td>0.7</td><td>&quot;No&quot;</td><td>82.1</td><td>9.2</td><td>&quot;Good&quot;</td><td>4</td><td>&quot;High School&quot;</td><td>&quot;Low&quot;</td><td>5.7</td><td>&quot;Yes&quot;</td><td>3.79</td><td>4</td><td>8.0</td><td>&quot;No&quot;</td><td>5</td><td>8.0</td><td>&quot;Library&quot;</td><td>&quot;Yes&quot;</td><td>&quot;High&quot;</td><td>3</td><td>9</td><td>6</td><td>&quot;Kinesthetic&quot;</td><td>7.6</td><td>98</td></tr><tr><td>100003</td><td>27</td><td>&quot;Other&quot;</td><td>&quot;Psychology&quot;</td><td>3.4</td><td>4.6</td><td>2.3</td><td>&quot;Yes&quot;</td><td>79.3</td><td>4.2</td><td>&quot;Fair&quot;</td><td>3</td><td>&quot;Master&quot;</td><td>&quot;Medium&quot;</td><td>8.5</td><td>&quot;Yes&quot;</td><td>4.0</td><td>6</td><td>4.6</td><td>&quot;No&quot;</td><td>3</td><td>11.7</td><td>&quot;Co-Learning Group&quot;</td><td>&quot;Yes&quot;</td><td>&quot;Low&quot;</td><td>5</td><td>3</td><td>10</td><td>&quot;Reading&quot;</td><td>3.2</td><td>100</td></tr><tr><td>100004</td><td>25</td><td>&quot;Female&quot;</td><td>&quot;Business&quot;</td><td>4.7</td><td>0.8</td><td>2.7</td><td>&quot;Yes&quot;</td><td>62.9</td><td>6.5</td><td>&quot;Good&quot;</td><td>6</td><td>&quot;PhD&quot;</td><td>&quot;Low&quot;</td><td>9.2</td><td>&quot;No&quot;</td><td>4.0</td><td>4</td><td>5.7</td><td>&quot;No&quot;</td><td>2</td><td>9.4</td><td>&quot;Quiet Room&quot;</td><td>&quot;Yes&quot;</td><td>&quot;Medium&quot;</td><td>9</td><td>1</td><td>10</td><td>&quot;Reading&quot;</td><td>7.1</td><td>98</td></tr></tbody></table></div>"
      ],
      "text/plain": [
       "shape: (5, 31)\n",
       "┌────────────┬─────┬────────┬─────────────┬───┬─────────────┬────────────┬────────────┬────────────┐\n",
       "│ student_id ┆ age ┆ gender ┆ major       ┆ … ┆ exam_anxiet ┆ learning_s ┆ time_manag ┆ exam_score │\n",
       "│ ---        ┆ --- ┆ ---    ┆ ---         ┆   ┆ y_score     ┆ tyle       ┆ ement_scor ┆ ---        │\n",
       "│ i64        ┆ i64 ┆ str    ┆ str         ┆   ┆ ---         ┆ ---        ┆ e          ┆ i64        │\n",
       "│            ┆     ┆        ┆             ┆   ┆ i64         ┆ str        ┆ ---        ┆            │\n",
       "│            ┆     ┆        ┆             ┆   ┆             ┆            ┆ f64        ┆            │\n",
       "╞════════════╪═════╪════════╪═════════════╪═══╪═════════════╪════════════╪════════════╪════════════╡\n",
       "│ 100000     ┆ 26  ┆ Male   ┆ Computer    ┆ … ┆ 8           ┆ Reading    ┆ 3.0        ┆ 100        │\n",
       "│            ┆     ┆        ┆ Science     ┆   ┆             ┆            ┆            ┆            │\n",
       "│ 100001     ┆ 28  ┆ Male   ┆ Arts        ┆ … ┆ 10          ┆ Reading    ┆ 6.0        ┆ 99         │\n",
       "│ 100002     ┆ 17  ┆ Male   ┆ Arts        ┆ … ┆ 6           ┆ Kinestheti ┆ 7.6        ┆ 98         │\n",
       "│            ┆     ┆        ┆             ┆   ┆             ┆ c          ┆            ┆            │\n",
       "│ 100003     ┆ 27  ┆ Other  ┆ Psychology  ┆ … ┆ 10          ┆ Reading    ┆ 3.2        ┆ 100        │\n",
       "│ 100004     ┆ 25  ┆ Female ┆ Business    ┆ … ┆ 10          ┆ Reading    ┆ 7.1        ┆ 98         │\n",
       "└────────────┴─────┴────────┴─────────────┴───┴─────────────┴────────────┴────────────┴────────────┘"
      ]
     },
     "execution_count": 3,
     "metadata": {},
     "output_type": "execute_result"
    }
   ],
   "source": [
    "df = pl.read_csv(\"enhanced_student_habits_performance_dataset.csv\", null_values=['N/A'])\n",
    "df.head()"
   ]
  },
  {
   "cell_type": "markdown",
   "id": "e32bfe93",
   "metadata": {},
   "source": [
    "### Descrição da base\n",
    "A base é sintética, contém cerca de 80000 linhas e as seguintes colunas:\n",
    "- `student_id`: Identificador único do estudante.\n",
    "- `age`: Idade do estudante (16–28).\n",
    "- `gender`: Masculino, Feminino ou Outro.\n",
    "- `major`: Área de estudo (por exemplo, Ciência da Computação, Engenharia, Artes).\n",
    "- `study_hours_per_day`: Média de horas estudadas diariamente.\n",
    "- `social_media_hours`, netflix_hours, screen_time: Tempo gasto em várias telas.\n",
    "- `part_time_job`: Se o estudante tem um emprego (Sim/Não).\n",
    "- `attendance_percentage`: Frequência acadêmica em porcentagem.\n",
    "- `sleep_hours`, exercise_frequency, diet_quality: Fatores de estilo de vida.\n",
    "- `mental_health_rating`, stress_level, exam_anxiety_score: Indicadores psicológicos (1–10).\n",
    "- `extracurricular_participation`, access_to_tutoring: Suporte e engajamento.\n",
    "- `family_income_range`, parental_support_level, parental_education_level: Antecedentes e suporte.\n",
    "- `motivation_level`, time_management_score: Habilidades de autogestão (1–10).\n",
    "- `learning_style`: Método de aprendizagem preferido.\n",
    "- `study_environment`: Local comum para estudar.\n",
    "- `dropout_risk`: Sim/Não — derivado dos níveis de estresse e motivação.\n",
    "- `previous_gpa`, exam_score: Indicadores de desempenho alvo."
   ]
  },
  {
   "cell_type": "code",
   "execution_count": 4,
   "id": "0b235f11",
   "metadata": {},
   "outputs": [
    {
     "name": "stdout",
     "output_type": "stream",
     "text": [
      "\n",
      "Colunas numéricas encontradas: ['student_id', 'age', 'study_hours_per_day', 'social_media_hours', 'netflix_hours', 'attendance_percentage', 'sleep_hours', 'exercise_frequency', 'mental_health_rating', 'previous_gpa', 'semester', 'stress_level', 'social_activity', 'screen_time', 'parental_support_level', 'motivation_level', 'exam_anxiety_score', 'time_management_score', 'exam_score']\n"
     ]
    }
   ],
   "source": [
    "numeric_columns = []\n",
    "for column in df.columns:\n",
    "    if df[column].dtype in [pl.Float64, pl.Float32, pl.Int64, pl.Int32, pl.Int16, pl.Int8]:\n",
    "        numeric_columns.append(column)\n",
    "\n",
    "print(f\"\\nColunas numéricas encontradas: {numeric_columns}\")"
   ]
  },
  {
   "cell_type": "markdown",
   "id": "0a92f88e",
   "metadata": {},
   "source": [
    "-  Dentre essas variavéis númericas, as seguines colunas não nos interessam para a correlação:\n",
    "    - `student_id`, `age`,`mental_health_rating`,`semester`,`parental_support_level`"
   ]
  },
  {
   "cell_type": "code",
   "execution_count": 6,
   "id": "e025e091",
   "metadata": {},
   "outputs": [],
   "source": [
    "df_dropped = df.drop(['student_id', 'age','mental_health_rating','semester','parental_support_level'])"
   ]
  },
  {
   "cell_type": "markdown",
   "id": "314e0b95",
   "metadata": {},
   "source": [
    "### Correlações"
   ]
  },
  {
   "cell_type": "code",
   "execution_count": null,
   "id": "44dfec3c",
   "metadata": {},
   "outputs": [],
   "source": [
    "# para calcular a correlação vamos remover os valores nulos\n",
    "df_clean = df.drop_nulls(subset=numeric_columns)\n",
    "\n",
    "correlation_matrix = df_clean.select(numeric_columns).corr()\n",
    "print(\"Matriz de correlação:\")\n",
    "print(correlation_matrix)\n"
   ]
  },
  {
   "cell_type": "code",
   "execution_count": null,
   "id": "73283fcc",
   "metadata": {},
   "outputs": [],
   "source": [
    "correlation_values = correlation_matrix.to_numpy()\n",
    "column_names = correlation_matrix.columns\n",
    "\n",
    "mask = np.triu(np.ones_like(correlation_values, dtype=bool))\n",
    "\n",
    "correlation_values_masked = correlation_values.copy()\n",
    "correlation_values_masked[mask] = np.nan\n",
    "\n",
    "fig, ax = plt.subplots(figsize=(10, 8))\n",
    "im = ax.imshow(correlation_values_masked, cmap='coolwarm', vmin=-1, vmax=1)\n",
    "\n",
    "ax.set_xticks(np.arange(len(column_names)))\n",
    "ax.set_yticks(np.arange(len(column_names)))\n",
    "ax.set_xticklabels(column_names, rotation=45, ha='right')\n",
    "ax.set_yticklabels(column_names)\n",
    "\n",
    "\n",
    "for i in range(len(column_names)):\n",
    "    for j in range(len(column_names)):\n",
    "        if not mask[i, j]:  \n",
    "            text = ax.text(j, i, f'{correlation_values[i, j]:.3f}',\n",
    "                          ha=\"center\", va=\"center\", color=\"black\")\n",
    "\n",
    "# Adicionar colorbar\n",
    "plt.colorbar(im, ax=ax, shrink=0.8)\n",
    "plt.title('Matriz de Correlação')\n",
    "plt.tight_layout()\n",
    "plt.show()\n",
    "plt.show()"
   ]
  }
 ],
 "metadata": {
  "kernelspec": {
   "display_name": ".venv",
   "language": "python",
   "name": "python3"
  },
  "language_info": {
   "codemirror_mode": {
    "name": "ipython",
    "version": 3
   },
   "file_extension": ".py",
   "mimetype": "text/x-python",
   "name": "python",
   "nbconvert_exporter": "python",
   "pygments_lexer": "ipython3",
   "version": "3.11.11"
  }
 },
 "nbformat": 4,
 "nbformat_minor": 5
}
