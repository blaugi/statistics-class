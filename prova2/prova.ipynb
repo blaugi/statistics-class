{
 "cells": [
  {
   "cell_type": "code",
   "execution_count": 63,
   "metadata": {},
   "outputs": [],
   "source": [
    "import pandas as pd\n",
    "import matplotlib.pyplot as plt"
   ]
  },
  {
   "cell_type": "markdown",
   "metadata": {},
   "source": [
    "### 1. Carregar dados"
   ]
  },
  {
   "cell_type": "code",
   "execution_count": 64,
   "metadata": {},
   "outputs": [
    {
     "data": {
      "application/vnd.microsoft.datawrangler.viewer.v0+json": {
       "columns": [
        {
         "name": "id",
         "rawType": "int64",
         "type": "integer"
        },
        {
         "name": "A",
         "rawType": "int64",
         "type": "integer"
        },
        {
         "name": "B",
         "rawType": "int64",
         "type": "integer"
        },
        {
         "name": "C",
         "rawType": "int64",
         "type": "integer"
        },
        {
         "name": "D",
         "rawType": "int64",
         "type": "integer"
        },
        {
         "name": "E",
         "rawType": "int64",
         "type": "integer"
        },
        {
         "name": "F",
         "rawType": "object",
         "type": "string"
        },
        {
         "name": "G",
         "rawType": "int64",
         "type": "integer"
        },
        {
         "name": "H",
         "rawType": "int64",
         "type": "integer"
        },
        {
         "name": "I",
         "rawType": "int64",
         "type": "integer"
        },
        {
         "name": "J",
         "rawType": "int64",
         "type": "integer"
        }
       ],
       "conversionMethod": "pd.DataFrame",
       "ref": "c31eed87-0cbe-4274-a87f-fc52ac7cae1a",
       "rows": [
        [
         "776715",
         "3",
         "1",
         "1",
         "1",
         "3",
         "2",
         "1",
         "1",
         "1",
         "2"
        ],
        [
         "841769",
         "2",
         "1",
         "1",
         "1",
         "2",
         "1",
         "1",
         "1",
         "1",
         "2"
        ],
        [
         "888820",
         "5",
         "10",
         "10",
         "3",
         "7",
         "3",
         "8",
         "10",
         "2",
         "4"
        ],
        [
         "897471",
         "4",
         "8",
         "6",
         "4",
         "3",
         "4",
         "10",
         "6",
         "1",
         "4"
        ],
        [
         "897471",
         "4",
         "8",
         "8",
         "5",
         "4",
         "5",
         "10",
         "4",
         "1",
         "4"
        ]
       ],
       "shape": {
        "columns": 10,
        "rows": 5
       }
      },
      "text/html": [
       "<div>\n",
       "<style scoped>\n",
       "    .dataframe tbody tr th:only-of-type {\n",
       "        vertical-align: middle;\n",
       "    }\n",
       "\n",
       "    .dataframe tbody tr th {\n",
       "        vertical-align: top;\n",
       "    }\n",
       "\n",
       "    .dataframe thead th {\n",
       "        text-align: right;\n",
       "    }\n",
       "</style>\n",
       "<table border=\"1\" class=\"dataframe\">\n",
       "  <thead>\n",
       "    <tr style=\"text-align: right;\">\n",
       "      <th></th>\n",
       "      <th>A</th>\n",
       "      <th>B</th>\n",
       "      <th>C</th>\n",
       "      <th>D</th>\n",
       "      <th>E</th>\n",
       "      <th>F</th>\n",
       "      <th>G</th>\n",
       "      <th>H</th>\n",
       "      <th>I</th>\n",
       "      <th>J</th>\n",
       "    </tr>\n",
       "    <tr>\n",
       "      <th>id</th>\n",
       "      <th></th>\n",
       "      <th></th>\n",
       "      <th></th>\n",
       "      <th></th>\n",
       "      <th></th>\n",
       "      <th></th>\n",
       "      <th></th>\n",
       "      <th></th>\n",
       "      <th></th>\n",
       "      <th></th>\n",
       "    </tr>\n",
       "  </thead>\n",
       "  <tbody>\n",
       "    <tr>\n",
       "      <th>776715</th>\n",
       "      <td>3</td>\n",
       "      <td>1</td>\n",
       "      <td>1</td>\n",
       "      <td>1</td>\n",
       "      <td>3</td>\n",
       "      <td>2</td>\n",
       "      <td>1</td>\n",
       "      <td>1</td>\n",
       "      <td>1</td>\n",
       "      <td>2</td>\n",
       "    </tr>\n",
       "    <tr>\n",
       "      <th>841769</th>\n",
       "      <td>2</td>\n",
       "      <td>1</td>\n",
       "      <td>1</td>\n",
       "      <td>1</td>\n",
       "      <td>2</td>\n",
       "      <td>1</td>\n",
       "      <td>1</td>\n",
       "      <td>1</td>\n",
       "      <td>1</td>\n",
       "      <td>2</td>\n",
       "    </tr>\n",
       "    <tr>\n",
       "      <th>888820</th>\n",
       "      <td>5</td>\n",
       "      <td>10</td>\n",
       "      <td>10</td>\n",
       "      <td>3</td>\n",
       "      <td>7</td>\n",
       "      <td>3</td>\n",
       "      <td>8</td>\n",
       "      <td>10</td>\n",
       "      <td>2</td>\n",
       "      <td>4</td>\n",
       "    </tr>\n",
       "    <tr>\n",
       "      <th>897471</th>\n",
       "      <td>4</td>\n",
       "      <td>8</td>\n",
       "      <td>6</td>\n",
       "      <td>4</td>\n",
       "      <td>3</td>\n",
       "      <td>4</td>\n",
       "      <td>10</td>\n",
       "      <td>6</td>\n",
       "      <td>1</td>\n",
       "      <td>4</td>\n",
       "    </tr>\n",
       "    <tr>\n",
       "      <th>897471</th>\n",
       "      <td>4</td>\n",
       "      <td>8</td>\n",
       "      <td>8</td>\n",
       "      <td>5</td>\n",
       "      <td>4</td>\n",
       "      <td>5</td>\n",
       "      <td>10</td>\n",
       "      <td>4</td>\n",
       "      <td>1</td>\n",
       "      <td>4</td>\n",
       "    </tr>\n",
       "  </tbody>\n",
       "</table>\n",
       "</div>"
      ],
      "text/plain": [
       "        A   B   C  D  E  F   G   H  I  J\n",
       "id                                      \n",
       "776715  3   1   1  1  3  2   1   1  1  2\n",
       "841769  2   1   1  1  2  1   1   1  1  2\n",
       "888820  5  10  10  3  7  3   8  10  2  4\n",
       "897471  4   8   6  4  3  4  10   6  1  4\n",
       "897471  4   8   8  5  4  5  10   4  1  4"
      ]
     },
     "execution_count": 64,
     "metadata": {},
     "output_type": "execute_result"
    }
   ],
   "source": [
    "data_path = \"data/breast-cancer-wisconsin.data\"\n",
    "column_names = [\"id\", \"A\", \"B\", \"C\", \"D\", \"E\", \"F\", \"G\", \"H\", \"I\", \"J\"]\n",
    "\n",
    "df = pd.read_csv(data_path, header=None, names=column_names, index_col=\"id\")\n",
    "df.tail()"
   ]
  },
  {
   "cell_type": "markdown",
   "metadata": {},
   "source": [
    "### 2. Função que conta quantas vezes cada classe aparece"
   ]
  },
  {
   "cell_type": "code",
   "execution_count": 65,
   "metadata": {},
   "outputs": [],
   "source": [
    "def occur_classes(column):\n",
    "    occurences = {}\n",
    "    for value in column:\n",
    "        if value not in occurences:\n",
    "            occurences[value] = 1\n",
    "        else:\n",
    "            occurences[value] += 1\n",
    "    return occurences"
   ]
  },
  {
   "cell_type": "code",
   "execution_count": 66,
   "metadata": {},
   "outputs": [
    {
     "name": "stdout",
     "output_type": "stream",
     "text": [
      "occorencias: {2: 458, 4: 241}\n"
     ]
    }
   ],
   "source": [
    "occurences = occur_classes(df['J'])\n",
    "print(f\"occorencias: {occurences}\")"
   ]
  },
  {
   "cell_type": "markdown",
   "metadata": {},
   "source": [
    "### 3. Gráfico de barras"
   ]
  },
  {
   "cell_type": "code",
   "execution_count": 67,
   "metadata": {},
   "outputs": [
    {
     "data": {
      "image/png": "[encoded data removed]",
      "text/plain": [
       "<Figure size 1000x500 with 1 Axes>"
      ]
     },
     "metadata": {},
     "output_type": "display_data"
    }
   ],
   "source": [
    "plt.figure(figsize=(10, 5))\n",
    "plt.bar(list(occurences.keys()), list(occurences.values()))\n",
    "plt.title(f\"Última coluna\")\n",
    "plt.xlabel(\"Classes\")\n",
    "plt.ylabel(\"Ocorrências\")\n",
    "plt.show()"
   ]
  },
  {
   "cell_type": "markdown",
   "metadata": {},
   "source": [
    "### 4. Métricas de colunas"
   ]
  },
  {
   "cell_type": "code",
   "execution_count": 68,
   "metadata": {},
   "outputs": [
    {
     "name": "stdout",
     "output_type": "stream",
     "text": [
      "\n",
      "--- Clump Thickness ---\n",
      "Média: 3.13\n",
      "Mediana: 1.00\n",
      "Moda: 1.00\n",
      "Desvio Absoluto Médio: 2.51\n",
      "Variância: 9.31\n",
      "Desvio Padrão: 3.05\n",
      "Percentual além de um desvio padrão: 17.31%\n",
      "\n",
      "\n",
      "--- Marginal Adhesion ---\n",
      "Média: 3.22\n",
      "Mediana: 2.00\n",
      "Moda: 2.00\n",
      "Desvio Absoluto Médio: 1.69\n",
      "Variância: 4.90\n",
      "Desvio Padrão: 2.21\n",
      "Percentual além de um desvio padrão: 22.03%\n",
      "\n",
      "\n",
      "--- Bare Nuclei ---\n",
      "Média: 3.44\n",
      "Mediana: 3.00\n",
      "Moda: 2.00\n",
      "Desvio Absoluto Médio: 1.95\n",
      "Variância: 5.95\n",
      "Desvio Padrão: 2.44\n",
      "Percentual além de um desvio padrão: 20.31%\n",
      "\n",
      "\n",
      "--- Mitoses ---\n",
      "Média: 2.69\n",
      "Mediana: 2.00\n",
      "Moda: 2.00\n",
      "Desvio Absoluto Médio: 0.90\n",
      "Variância: 0.90\n",
      "Desvio Padrão: 0.95\n",
      "Percentual além de um desvio padrão: 34.48%\n",
      "\n"
     ]
    }
   ],
   "source": [
    "df = df.rename(columns={'B': 'Clump Thickness', 'E': 'Marginal Adhesion', 'G':'Bare Nuclei', 'J':'Mitoses'})\n",
    "columns_interest = ['Clump Thickness', 'Marginal Adhesion', 'Bare Nuclei', 'Mitoses']\n",
    "\n",
    "for column in columns_interest:\n",
    "    media = df[column].mean()\n",
    "    mediana = df[column].median()\n",
    "    moda = df[column].mode().iloc[0]  \n",
    "\n",
    "\n",
    "    # Desvio absoluto medio\n",
    "    mad = (df[column] - media).abs().mean()\n",
    "\n",
    "    variancia = df[column].var()\n",
    "    desvio_padrao = df[column].std()\n",
    "    \n",
    "    # Calcula a porcentagem alem do desvio padrão\n",
    "    beyond_one_std = df[(df[column] > media + desvio_padrao) | (df[column] < media - desvio_padrao)].shape[0]\n",
    "    percentual_beyond = (beyond_one_std / df.shape[0]) * 100\n",
    "    \n",
    "    print(f\"\\n--- {column} ---\")\n",
    "    print(f\"Média: {media:.2f}\")\n",
    "    print(f\"Mediana: {mediana:.2f}\")\n",
    "    print(f\"Moda: {moda:.2f}\")\n",
    "    print(f\"Desvio Absoluto Médio: {mad:.2f}\")\n",
    "    print(f\"Variância: {variancia:.2f}\")\n",
    "    print(f\"Desvio Padrão: {desvio_padrao:.2f}\")\n",
    "    print(f\"Percentual além de um desvio padrão: {percentual_beyond:.2f}%\")\n",
    "    \n",
    "    print('')"
   ]
  },
  {
   "cell_type": "markdown",
   "metadata": {},
   "source": [
    "### Análise de Simetria das Distribuições\n",
    "\n",
    "#### Clump Thickness\n",
    "**Distribuição**: Assimétrica para direita (positiva)\n",
    "**Justificativa**: Média (3.13) > Mediana (1.00) = Moda (1.00)\n",
    "\n",
    "#### Marginal Adhesion\n",
    "**Distribuição**: Assimétrica para direita (positiva)\n",
    "**Justificativa**: Média (3.22) > Mediana (2.00) = Moda (2.00)\n",
    "\n",
    "#### Bare Nuclei\n",
    "**Distribuição**: Assimétrica levemente para direita (positiva)\n",
    "**Justificativa**: Média (3.44) > Mediana (3.00) > Moda (2.00)\n",
    "\n",
    "#### Mitoses\n",
    "**Distribuição**: Assimétrica para direita (positiva)\n",
    "**Justificativa**: Média (2.69) > Mediana (2.00) = Moda (2.00)"
   ]
  },
  {
   "cell_type": "markdown",
   "metadata": {},
   "source": [
    "### 5. gráfico de caixa"
   ]
  },
  {
   "cell_type": "code",
   "execution_count": 69,
   "metadata": {},
   "outputs": [
    {
     "data": {
      "image/png": "[encoded data removed]",
      "text/plain": [
       "<Figure size 1000x600 with 1 Axes>"
      ]
     },
     "metadata": {},
     "output_type": "display_data"
    },
    {
     "data": {
      "image/png": "[encoded data removed]",
      "text/plain": [
       "<Figure size 1000x600 with 1 Axes>"
      ]
     },
     "metadata": {},
     "output_type": "display_data"
    },
    {
     "data": {
      "image/png": "[encoded data removed]",
      "text/plain": [
       "<Figure size 1000x600 with 1 Axes>"
      ]
     },
     "metadata": {},
     "output_type": "display_data"
    },
    {
     "data": {
      "image/png": "[encoded data removed]",
      "text/plain": [
       "<Figure size 1000x600 with 1 Axes>"
      ]
     },
     "metadata": {},
     "output_type": "display_data"
    }
   ],
   "source": [
    "for column in columns_interest:\n",
    "    plt.figure(figsize=(10, 6))\n",
    "    df.boxplot(column=column, grid=False)\n",
    "    plt.title(f'{column}')\n",
    "    plt.suptitle('')  \n",
    "    plt.xlabel('X')\n",
    "    plt.ylabel('Y')\n",
    "    plt.xticks(rotation=45, ha='right')\n",
    "    plt.show() \n",
    "    "
   ]
  }
 ],
 "metadata": {
  "kernelspec": {
   "display_name": ".venv",
   "language": "python",
   "name": "python3"
  },
  "language_info": {
   "codemirror_mode": {
    "name": "ipython",
    "version": 3
   },
   "file_extension": ".py",
   "mimetype": "text/x-python",
   "name": "python",
   "nbconvert_exporter": "python",
   "pygments_lexer": "ipython3",
   "version": "3.10.16"
  }
 },
 "nbformat": 4,
 "nbformat_minor": 2
}
