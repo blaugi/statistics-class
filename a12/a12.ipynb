{
 "cells": [
  {
   "cell_type": "code",
   "execution_count": 43,
   "metadata": {},
   "outputs": [],
   "source": [
    "import matplotlib.pyplot as plt\n",
    "import polars as pl\n",
    "import polars.selectors as cs\n",
    "import seaborn as sns"
   ]
  },
  {
   "cell_type": "code",
   "execution_count": 44,
   "metadata": {},
   "outputs": [
    {
     "data": {
      "text/html": [
       "<div><style>\n",
       ".dataframe > thead > tr,\n",
       ".dataframe > tbody > tr {\n",
       "  text-align: right;\n",
       "  white-space: pre-wrap;\n",
       "}\n",
       "</style>\n",
       "<small>shape: (16_598, 11)</small><table border=\"1\" class=\"dataframe\"><thead><tr><th>Rank</th><th>Name</th><th>Platform</th><th>Year</th><th>Genre</th><th>Publisher</th><th>NA_Sales</th><th>EU_Sales</th><th>JP_Sales</th><th>Other_Sales</th><th>Global_Sales</th></tr><tr><td>i64</td><td>str</td><td>str</td><td>i64</td><td>str</td><td>str</td><td>f64</td><td>f64</td><td>f64</td><td>f64</td><td>f64</td></tr></thead><tbody><tr><td>1</td><td>&quot;Wii Sports&quot;</td><td>&quot;Wii&quot;</td><td>2006</td><td>&quot;Sports&quot;</td><td>&quot;Nintendo&quot;</td><td>41.49</td><td>29.02</td><td>3.77</td><td>8.46</td><td>82.74</td></tr><tr><td>2</td><td>&quot;Super Mario Bros.&quot;</td><td>&quot;NES&quot;</td><td>1985</td><td>&quot;Platform&quot;</td><td>&quot;Nintendo&quot;</td><td>29.08</td><td>3.58</td><td>6.81</td><td>0.77</td><td>40.24</td></tr><tr><td>3</td><td>&quot;Mario Kart Wii&quot;</td><td>&quot;Wii&quot;</td><td>2008</td><td>&quot;Racing&quot;</td><td>&quot;Nintendo&quot;</td><td>15.85</td><td>12.88</td><td>3.79</td><td>3.31</td><td>35.82</td></tr><tr><td>4</td><td>&quot;Wii Sports Resort&quot;</td><td>&quot;Wii&quot;</td><td>2009</td><td>&quot;Sports&quot;</td><td>&quot;Nintendo&quot;</td><td>15.75</td><td>11.01</td><td>3.28</td><td>2.96</td><td>33.0</td></tr><tr><td>5</td><td>&quot;Pokemon Red/Pokemon Blue&quot;</td><td>&quot;GB&quot;</td><td>1996</td><td>&quot;Role-Playing&quot;</td><td>&quot;Nintendo&quot;</td><td>11.27</td><td>8.89</td><td>10.22</td><td>1.0</td><td>31.37</td></tr><tr><td>&hellip;</td><td>&hellip;</td><td>&hellip;</td><td>&hellip;</td><td>&hellip;</td><td>&hellip;</td><td>&hellip;</td><td>&hellip;</td><td>&hellip;</td><td>&hellip;</td><td>&hellip;</td></tr><tr><td>16596</td><td>&quot;Woody Woodpecker in Crazy Cast…</td><td>&quot;GBA&quot;</td><td>2002</td><td>&quot;Platform&quot;</td><td>&quot;Kemco&quot;</td><td>0.01</td><td>0.0</td><td>0.0</td><td>0.0</td><td>0.01</td></tr><tr><td>16597</td><td>&quot;Men in Black II: Alien Escape&quot;</td><td>&quot;GC&quot;</td><td>2003</td><td>&quot;Shooter&quot;</td><td>&quot;Infogrames&quot;</td><td>0.01</td><td>0.0</td><td>0.0</td><td>0.0</td><td>0.01</td></tr><tr><td>16598</td><td>&quot;SCORE International Baja 1000:…</td><td>&quot;PS2&quot;</td><td>2008</td><td>&quot;Racing&quot;</td><td>&quot;Activision&quot;</td><td>0.0</td><td>0.0</td><td>0.0</td><td>0.0</td><td>0.01</td></tr><tr><td>16599</td><td>&quot;Know How 2&quot;</td><td>&quot;DS&quot;</td><td>2010</td><td>&quot;Puzzle&quot;</td><td>&quot;7G//AMES&quot;</td><td>0.0</td><td>0.01</td><td>0.0</td><td>0.0</td><td>0.01</td></tr><tr><td>16600</td><td>&quot;Spirits &amp; Spells&quot;</td><td>&quot;GBA&quot;</td><td>2003</td><td>&quot;Platform&quot;</td><td>&quot;Wanadoo&quot;</td><td>0.01</td><td>0.0</td><td>0.0</td><td>0.0</td><td>0.01</td></tr></tbody></table></div>"
      ],
      "text/plain": [
       "shape: (16_598, 11)\n",
       "┌───────┬─────────────────┬──────────┬──────┬───┬──────────┬──────────┬─────────────┬──────────────┐\n",
       "│ Rank  ┆ Name            ┆ Platform ┆ Year ┆ … ┆ EU_Sales ┆ JP_Sales ┆ Other_Sales ┆ Global_Sales │\n",
       "│ ---   ┆ ---             ┆ ---      ┆ ---  ┆   ┆ ---      ┆ ---      ┆ ---         ┆ ---          │\n",
       "│ i64   ┆ str             ┆ str      ┆ i64  ┆   ┆ f64      ┆ f64      ┆ f64         ┆ f64          │\n",
       "╞═══════╪═════════════════╪══════════╪══════╪═══╪══════════╪══════════╪═════════════╪══════════════╡\n",
       "│ 1     ┆ Wii Sports      ┆ Wii      ┆ 2006 ┆ … ┆ 29.02    ┆ 3.77     ┆ 8.46        ┆ 82.74        │\n",
       "│ 2     ┆ Super Mario     ┆ NES      ┆ 1985 ┆ … ┆ 3.58     ┆ 6.81     ┆ 0.77        ┆ 40.24        │\n",
       "│       ┆ Bros.           ┆          ┆      ┆   ┆          ┆          ┆             ┆              │\n",
       "│ 3     ┆ Mario Kart Wii  ┆ Wii      ┆ 2008 ┆ … ┆ 12.88    ┆ 3.79     ┆ 3.31        ┆ 35.82        │\n",
       "│ 4     ┆ Wii Sports      ┆ Wii      ┆ 2009 ┆ … ┆ 11.01    ┆ 3.28     ┆ 2.96        ┆ 33.0         │\n",
       "│       ┆ Resort          ┆          ┆      ┆   ┆          ┆          ┆             ┆              │\n",
       "│ 5     ┆ Pokemon         ┆ GB       ┆ 1996 ┆ … ┆ 8.89     ┆ 10.22    ┆ 1.0         ┆ 31.37        │\n",
       "│       ┆ Red/Pokemon     ┆          ┆      ┆   ┆          ┆          ┆             ┆              │\n",
       "│       ┆ Blue            ┆          ┆      ┆   ┆          ┆          ┆             ┆              │\n",
       "│ …     ┆ …               ┆ …        ┆ …    ┆ … ┆ …        ┆ …        ┆ …           ┆ …            │\n",
       "│ 16596 ┆ Woody           ┆ GBA      ┆ 2002 ┆ … ┆ 0.0      ┆ 0.0      ┆ 0.0         ┆ 0.01         │\n",
       "│       ┆ Woodpecker in   ┆          ┆      ┆   ┆          ┆          ┆             ┆              │\n",
       "│       ┆ Crazy Cast…     ┆          ┆      ┆   ┆          ┆          ┆             ┆              │\n",
       "│ 16597 ┆ Men in Black    ┆ GC       ┆ 2003 ┆ … ┆ 0.0      ┆ 0.0      ┆ 0.0         ┆ 0.01         │\n",
       "│       ┆ II: Alien       ┆          ┆      ┆   ┆          ┆          ┆             ┆              │\n",
       "│       ┆ Escape          ┆          ┆      ┆   ┆          ┆          ┆             ┆              │\n",
       "│ 16598 ┆ SCORE           ┆ PS2      ┆ 2008 ┆ … ┆ 0.0      ┆ 0.0      ┆ 0.0         ┆ 0.01         │\n",
       "│       ┆ International   ┆          ┆      ┆   ┆          ┆          ┆             ┆              │\n",
       "│       ┆ Baja 1000:…     ┆          ┆      ┆   ┆          ┆          ┆             ┆              │\n",
       "│ 16599 ┆ Know How 2      ┆ DS       ┆ 2010 ┆ … ┆ 0.01     ┆ 0.0      ┆ 0.0         ┆ 0.01         │\n",
       "│ 16600 ┆ Spirits &       ┆ GBA      ┆ 2003 ┆ … ┆ 0.0      ┆ 0.0      ┆ 0.0         ┆ 0.01         │\n",
       "│       ┆ Spells          ┆          ┆      ┆   ┆          ┆          ┆             ┆              │\n",
       "└───────┴─────────────────┴──────────┴──────┴───┴──────────┴──────────┴─────────────┴──────────────┘"
      ]
     },
     "execution_count": 44,
     "metadata": {},
     "output_type": "execute_result"
    }
   ],
   "source": [
    "df = pl.read_csv('dataset.csv', null_values=['N/A'])\n",
    "df"
   ]
  },
  {
   "cell_type": "markdown",
   "metadata": {},
   "source": [
    "__Filtrar variavéis categóricas__\n",
    "- Para calcular média, mediana, moda, desvio absoluto média, variância e desvio padrão, precisamos de variavéis discretas ou contínuas.\n",
    "- Portanto vamos remover as categóricas\n",
    "- Removemos também a coluna Ano, visto que não faz sentido calcularmos as métricas mencionadas acima."
   ]
  },
  {
   "cell_type": "code",
   "execution_count": 45,
   "metadata": {},
   "outputs": [
    {
     "data": {
      "text/html": [
       "<div><style>\n",
       ".dataframe > thead > tr,\n",
       ".dataframe > tbody > tr {\n",
       "  text-align: right;\n",
       "  white-space: pre-wrap;\n",
       "}\n",
       "</style>\n",
       "<small>shape: (16_598, 5)</small><table border=\"1\" class=\"dataframe\"><thead><tr><th>NA_Sales</th><th>EU_Sales</th><th>JP_Sales</th><th>Other_Sales</th><th>Global_Sales</th></tr><tr><td>f64</td><td>f64</td><td>f64</td><td>f64</td><td>f64</td></tr></thead><tbody><tr><td>41.49</td><td>29.02</td><td>3.77</td><td>8.46</td><td>82.74</td></tr><tr><td>29.08</td><td>3.58</td><td>6.81</td><td>0.77</td><td>40.24</td></tr><tr><td>15.85</td><td>12.88</td><td>3.79</td><td>3.31</td><td>35.82</td></tr><tr><td>15.75</td><td>11.01</td><td>3.28</td><td>2.96</td><td>33.0</td></tr><tr><td>11.27</td><td>8.89</td><td>10.22</td><td>1.0</td><td>31.37</td></tr><tr><td>&hellip;</td><td>&hellip;</td><td>&hellip;</td><td>&hellip;</td><td>&hellip;</td></tr><tr><td>0.01</td><td>0.0</td><td>0.0</td><td>0.0</td><td>0.01</td></tr><tr><td>0.01</td><td>0.0</td><td>0.0</td><td>0.0</td><td>0.01</td></tr><tr><td>0.0</td><td>0.0</td><td>0.0</td><td>0.0</td><td>0.01</td></tr><tr><td>0.0</td><td>0.01</td><td>0.0</td><td>0.0</td><td>0.01</td></tr><tr><td>0.01</td><td>0.0</td><td>0.0</td><td>0.0</td><td>0.01</td></tr></tbody></table></div>"
      ],
      "text/plain": [
       "shape: (16_598, 5)\n",
       "┌──────────┬──────────┬──────────┬─────────────┬──────────────┐\n",
       "│ NA_Sales ┆ EU_Sales ┆ JP_Sales ┆ Other_Sales ┆ Global_Sales │\n",
       "│ ---      ┆ ---      ┆ ---      ┆ ---         ┆ ---          │\n",
       "│ f64      ┆ f64      ┆ f64      ┆ f64         ┆ f64          │\n",
       "╞══════════╪══════════╪══════════╪═════════════╪══════════════╡\n",
       "│ 41.49    ┆ 29.02    ┆ 3.77     ┆ 8.46        ┆ 82.74        │\n",
       "│ 29.08    ┆ 3.58     ┆ 6.81     ┆ 0.77        ┆ 40.24        │\n",
       "│ 15.85    ┆ 12.88    ┆ 3.79     ┆ 3.31        ┆ 35.82        │\n",
       "│ 15.75    ┆ 11.01    ┆ 3.28     ┆ 2.96        ┆ 33.0         │\n",
       "│ 11.27    ┆ 8.89     ┆ 10.22    ┆ 1.0         ┆ 31.37        │\n",
       "│ …        ┆ …        ┆ …        ┆ …           ┆ …            │\n",
       "│ 0.01     ┆ 0.0      ┆ 0.0      ┆ 0.0         ┆ 0.01         │\n",
       "│ 0.01     ┆ 0.0      ┆ 0.0      ┆ 0.0         ┆ 0.01         │\n",
       "│ 0.0      ┆ 0.0      ┆ 0.0      ┆ 0.0         ┆ 0.01         │\n",
       "│ 0.0      ┆ 0.01     ┆ 0.0      ┆ 0.0         ┆ 0.01         │\n",
       "│ 0.01     ┆ 0.0      ┆ 0.0      ┆ 0.0         ┆ 0.01         │\n",
       "└──────────┴──────────┴──────────┴─────────────┴──────────────┘"
      ]
     },
     "execution_count": 45,
     "metadata": {},
     "output_type": "execute_result"
    }
   ],
   "source": [
    "df = df.select(cs.integer() | cs.float())\n",
    "df = df.drop([\"Rank\", \"Year\"])\n",
    "df"
   ]
  },
  {
   "cell_type": "code",
   "execution_count": 46,
   "metadata": {},
   "outputs": [
    {
     "data": {
      "text/html": [
       "<div><style>\n",
       ".dataframe > thead > tr,\n",
       ".dataframe > tbody > tr {\n",
       "  text-align: right;\n",
       "  white-space: pre-wrap;\n",
       "}\n",
       "</style>\n",
       "<small>shape: (9, 2)</small><table border=\"1\" class=\"dataframe\"><thead><tr><th>statistic</th><th>value</th></tr><tr><td>str</td><td>f64</td></tr></thead><tbody><tr><td>&quot;count&quot;</td><td>16598.0</td></tr><tr><td>&quot;null_count&quot;</td><td>0.0</td></tr><tr><td>&quot;mean&quot;</td><td>0.077782</td></tr><tr><td>&quot;std&quot;</td><td>0.309291</td></tr><tr><td>&quot;min&quot;</td><td>0.0</td></tr><tr><td>&quot;25%&quot;</td><td>0.0</td></tr><tr><td>&quot;50%&quot;</td><td>0.0</td></tr><tr><td>&quot;75%&quot;</td><td>0.04</td></tr><tr><td>&quot;max&quot;</td><td>10.22</td></tr></tbody></table></div>"
      ],
      "text/plain": [
       "shape: (9, 2)\n",
       "┌────────────┬──────────┐\n",
       "│ statistic  ┆ value    │\n",
       "│ ---        ┆ ---      │\n",
       "│ str        ┆ f64      │\n",
       "╞════════════╪══════════╡\n",
       "│ count      ┆ 16598.0  │\n",
       "│ null_count ┆ 0.0      │\n",
       "│ mean       ┆ 0.077782 │\n",
       "│ std        ┆ 0.309291 │\n",
       "│ min        ┆ 0.0      │\n",
       "│ 25%        ┆ 0.0      │\n",
       "│ 50%        ┆ 0.0      │\n",
       "│ 75%        ┆ 0.04     │\n",
       "│ max        ┆ 10.22    │\n",
       "└────────────┴──────────┘"
      ]
     },
     "execution_count": 46,
     "metadata": {},
     "output_type": "execute_result"
    }
   ],
   "source": [
    "df.get_column(\"JP_Sales\").describe()"
   ]
  },
  {
   "cell_type": "code",
   "execution_count": 50,
   "metadata": {},
   "outputs": [
    {
     "name": "stdout",
     "output_type": "stream",
     "text": [
      "Coluna: NA_Sales, Média: 0.26, Mediana: 0.08, Variância: 0.67, Desvio: 0.82, Desvio Absoluto: 0.31\n",
      "Coluna NA_Sales: 4.84% dos dados estão além de 1 desvio padrão da média\n",
      "-------------------------------------------------------------------\n",
      "Coluna: EU_Sales, Média: 0.15, Mediana: 0.02, Variância: 0.26, Desvio: 0.51, Desvio Absoluto: 0.19\n",
      "Coluna EU_Sales: 4.70% dos dados estão além de 1 desvio padrão da média\n",
      "-------------------------------------------------------------------\n",
      "Coluna: JP_Sales, Média: 0.08, Mediana: 0.0, Variância: 0.10, Desvio: 0.31, Desvio Absoluto: 0.12\n",
      "Coluna JP_Sales: 4.66% dos dados estão além de 1 desvio padrão da média\n",
      "-------------------------------------------------------------------\n",
      "Coluna: Other_Sales, Média: 0.05, Mediana: 0.01, Variância: 0.04, Desvio: 0.19, Desvio Absoluto: 0.06\n",
      "Coluna Other_Sales: 3.89% dos dados estão além de 1 desvio padrão da média\n",
      "-------------------------------------------------------------------\n",
      "Coluna: Global_Sales, Média: 0.54, Mediana: 0.17, Variância: 2.42, Desvio: 1.56, Desvio Absoluto: 0.59\n",
      "Coluna Global_Sales: 4.76% dos dados estão além de 1 desvio padrão da média\n",
      "-------------------------------------------------------------------\n"
     ]
    }
   ],
   "source": [
    "for column in df.iter_columns():\n",
    "    media = column.mean()\n",
    "    mediana = column.median()\n",
    "    variancia = column.var()\n",
    "    desvio = column.std()\n",
    "    desvio_abs_media = (column - media).abs().mean()\n",
    "\n",
    "    fora_intervalo = ((column < media - desvio) | (column > media + desvio)).sum()\n",
    "    percentual = (fora_intervalo / len(column)) * 100\n",
    "\n",
    "    print(f'Coluna: {column.name}, Média: {media:.2f}, Mediana: {mediana}, Variância: {variancia:.2f}, Desvio: {desvio:.2f}, Desvio Absoluto: {desvio_abs_media:.2f}')\n",
    "    print(f\"Coluna {column.name}: {percentual:.2f}% dos dados estão além de 1 desvio padrão da média\")\n",
    "    print(\"-------------------------------------------------------------------\")"
   ]
  },
  {
   "cell_type": "markdown",
   "metadata": {},
   "source": [
    "- __Coluna: NA_Sales__: A distribuição é Assimétrica à Direita. Dado a média maior que a mediana.\n",
    "- __Coluna: EU_Sales__: A distribuição é Assimétrica à Direita. Dado a média maior que a mediana.\n",
    "- __Coluna: JP_Sales__: A distribuição é Assimétrica à Direita. Dado a média maior que a mediana.\n",
    "- __Coluna: Other_Sales__: A distribuição é Assimétrica à Direita. Dado a média maior que a mediana.\n",
    "- __Coluna: Global_Sales__: A distribuição é Assimétrica à Direita. Dado a média maior que a mediana."
   ]
  }
 ],
 "metadata": {
  "kernelspec": {
   "display_name": ".venv",
   "language": "python",
   "name": "python3"
  },
  "language_info": {
   "codemirror_mode": {
    "name": "ipython",
    "version": 3
   },
   "file_extension": ".py",
   "mimetype": "text/x-python",
   "name": "python",
   "nbconvert_exporter": "python",
   "pygments_lexer": "ipython3",
   "version": "3.10.16"
  }
 },
 "nbformat": 4,
 "nbformat_minor": 2
}
